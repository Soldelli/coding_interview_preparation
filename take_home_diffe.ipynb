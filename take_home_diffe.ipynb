{
 "cells": [
  {
   "cell_type": "markdown",
   "metadata": {
    "id": "TLys-DPL-9cp"
   },
   "source": [
    "# Task instructions (please read carefully)\n",
    "\n",
    "- Allocate up to 4 hours to work on these tasks.\n",
    "- To solve the task, first make a copy of this notebook by clicking in the top-left \"File\" -> “Save a copy in Drive”. Then solve the task on a standard GPU instance in colab.research.google.com.\n",
    "- To setup the GPU instance runtime, in top bar click \"runtime\" -> \"change runtime type\" -> \"T4 GPU\" (under Hardware accelerator). Note that this instance is free, i.e. no money will be billed to your Google account.\n",
    "- Use any tools available to you, including existing libraries, LLMs, coding assistants, etc. To install a library in colab, you can use `!pip install <library_name>` in the top cell.\n",
    "- Some of the tasks are very hard, and it is not expected for all candidates to solve them.\n",
    "- For all optimization processes (training, SDS optimization, ...), make sure to log the optimized objectives and display graphs displaying their convergence.\n",
    "- Besides the correctness of the solutions, we will also assess the code quality.\n",
    "\n",
    "### Submission:\n",
    "- Once done with solving the tasks -> click “Share” in top-right -> under “General access” select “Anyone with the link” -> click “Copy link” -> paste the link to the submission form.\n",
    "- Together with sharing the link, download the .ipynb file and upload the file into the submission form.\n",
    "- Before time runs out, please write a paragraph about the things you tried, what worked and what didn't, how did you debug it, and what would you do if you had more time. Please write this as a text cell directly inside the notebook.\n",
    "- Before submitting, make sure that your colab runs from beginning to end on a standard GPU instance in [colab.research.google.com](colab.research.google.com).\n",
    "\n",
    "Good luck!"
   ]
  },
  {
   "cell_type": "markdown",
   "metadata": {
    "id": "dEVaEbpX-9cq"
   },
   "source": [
    "# Machine Learning Take-Home Exercise: Diffusion Models and Inpainting\n",
    "\n",
    "In this exercise, you will:\n",
    "1. Implement a simple diffusion model and train it on the MNIST dataset\n",
    "2. Use the trained model to perform image inpainting\n",
    "3. Use the trained model to perform image inpainting using SDS optimization\n",
    "\n",
    "## Part 1: Implementing a Simple Diffusion Model\n",
    "\n",
    "First, let's import the necessary libraries and set up our environment."
   ]
  },
  {
   "cell_type": "code",
   "execution_count": null,
   "metadata": {},
   "outputs": [],
   "source": [
    "# !conda create -n spAItial python=3.9\n",
    "# !conda activate spAItia\n",
    "# !pip3 install torch torchvision torchaudio --index-url https://download.pytorch.org/whl/cu118\n",
    "# !pip install tqdm\n",
    "# !pip install matplotlib\n",
    "# !pip install asttokens\n",
    "# !pip install decorator\n",
    "# !pip install ipywidgets"
   ]
  },
  {
   "cell_type": "code",
   "execution_count": null,
   "metadata": {
    "id": "eiS0YmjO-9cq"
   },
   "outputs": [],
   "source": [
    "import os\n",
    "import torch\n",
    "import random\n",
    "import torch.nn as nn\n",
    "import torchvision\n",
    "import torchvision.transforms as transforms\n",
    "import matplotlib.pyplot as plt\n",
    "import typing\n",
    "import torchvision\n",
    "from tqdm.auto import tqdm\n",
    "\n",
    "\n",
    "import math\n",
    "import numpy as np\n",
    "import torch.nn.functional as F\n",
    "\n",
    "if not torch.cuda.is_available():\n",
    "    raise RuntimeError(\"No GPU found. Make sure to select a GPU runtime in the Colab instance settings.\")\n",
    "\n",
    "device = torch.device('cuda')"
   ]
  },
  {
   "cell_type": "markdown",
   "metadata": {
    "id": "YmaQN81g-9cq"
   },
   "source": [
    "### 1.1 Data Loading\n",
    "\n",
    "We'll use MINST dataset. We setup the data loader to load small (16x16) images, so that we can train a small diffusion model in this dataset quickly."
   ]
  },
  {
   "cell_type": "code",
   "execution_count": 15,
   "metadata": {
    "id": "28RyiN7p-9cr"
   },
   "outputs": [],
   "source": [
    "NUM_CLASSES = 10  # the number of digit classes in the MNIST dataset\n",
    "H, W = 16, 16  # the height and width of the input images\n",
    "\n",
    "transform = transforms.Compose([\n",
    "    transforms.ToTensor(),\n",
    "    transforms.Resize((H, W)),\n",
    "    transforms.Normalize((0.5,), (0.5,)),\n",
    "])\n",
    "\n",
    "trainset = torchvision.datasets.MNIST(\n",
    "    root='./data_take_home_minst', train=True,\n",
    "    download=True, transform=transform\n",
    ")\n",
    "valset = torchvision.datasets.MNIST(\n",
    "    root='./data_take_home_minst', train=False,\n",
    "    download=True, transform=transform\n",
    ")\n",
    "\n",
    "trainloader = torch.utils.data.DataLoader(trainset, batch_size=128, shuffle=True, num_workers=0)\n",
    "valloader = torch.utils.data.DataLoader(valset, batch_size=128, shuffle=False, num_workers=0)"
   ]
  },
  {
   "cell_type": "code",
   "execution_count": 16,
   "metadata": {},
   "outputs": [
    {
     "name": "stdout",
     "output_type": "stream",
     "text": [
      "torch.Size([128, 1, 16, 16])\n"
     ]
    },
    {
     "data": {
      "image/png": "[encoded data removed]",
      "text/plain": [
       "<Figure size 640x480 with 1 Axes>"
      ]
     },
     "metadata": {},
     "output_type": "display_data"
    }
   ],
   "source": [
    "# Visualize inputs to avoid random garbage from dataloader, always saves you a headache\n",
    "for batch in trainloader:\n",
    "    imgs = batch[0]\n",
    "    labels = batch[1]\n",
    "    print(imgs.shape)\n",
    "    plt.imshow(imgs[0,0], cmap='gray')\n",
    "    plt.title(f\"Label: {labels[0]}\")\n",
    "    plt.axis('off')  # Hide axes for clarity\n",
    "    plt.show()\n",
    "    break"
   ]
  },
  {
   "cell_type": "markdown",
   "metadata": {
    "id": "3rbFetEm-9cr"
   },
   "source": [
    "### 1.2 Implementing the Model\n",
    "\n",
    "Complete the Model implementation below. This will be our noise prediction network.\n",
    "\n",
    "NOTE:\n",
    "- In the following cells, feel free to add any additional parameters you need into the function signatures.\n",
    "- A succesful diffusion model can be trained within 15 minutes with a model containing ~30M parameters."
   ]
  },
  {
   "cell_type": "code",
   "execution_count": 69,
   "metadata": {
    "id": "ePLYrqvv-9cr"
   },
   "outputs": [],
   "source": [
    "import math\n",
    "\n",
    "class SinusoidalPosEmb(nn.Module):\n",
    "    def __init__(self, dim, theta = 10000):\n",
    "        super().__init__()\n",
    "        self.dim = dim\n",
    "        self.theta = theta\n",
    "\n",
    "    def forward(self, x):\n",
    "        device = x.device\n",
    "        half_dim = self.dim // 2\n",
    "        emb = math.log(self.theta) / (half_dim - 1)\n",
    "        emb = torch.exp(torch.arange(half_dim, device=device) * -emb)\n",
    "        emb = x[:, None] * emb[None, :]\n",
    "        emb = torch.cat((emb.sin(), emb.cos()), dim=-1)\n",
    "        return emb\n",
    "\n",
    "# helper: simple embedding for discrete classes\n",
    "class ClassEmbedding(nn.Module):\n",
    "    def __init__(self, num_classes, embedding_dim=64):\n",
    "        super().__init__()\n",
    "        self.embed = nn.Embedding(num_classes, embedding_dim)\n",
    "    def forward(self, y):\n",
    "        return self.embed(y)\n",
    "\n",
    "class ResidualBlock(nn.Module):\n",
    "    def __init__(self, in_channels, out_channels, time_emb_dim, class_emb_dim):\n",
    "        super().__init__()\n",
    "        self.conv1 = nn.Conv2d(in_channels, out_channels, kernel_size=3, padding=1)\n",
    "        self.conv2 = nn.Conv2d(out_channels, out_channels, kernel_size=3, padding=1)\n",
    "        self.temb_proj = nn.Linear(time_emb_dim, out_channels)\n",
    "        self.cemb_proj = nn.Linear(class_emb_dim, out_channels)\n",
    "        self.activation = nn.SiLU()\n",
    "        self.shortcut = nn.Conv2d(in_channels, out_channels, kernel_size=1)\n",
    "\n",
    "    def forward(self, x, t_emb, c_emb):\n",
    "        \"\"\"\n",
    "        x: shape (B, in_channels, H, W)\n",
    "        t_emb, c_emb: shape (B, embed_dim) - to be injected\n",
    "        \"\"\"\n",
    "        # project embeddings to channel dimension\n",
    "        temb = self.temb_proj(t_emb)[:, :, None, None]\n",
    "        cemb = self.cemb_proj(c_emb)[:, :, None, None]\n",
    "\n",
    "        h = self.conv1(x)\n",
    "        h = h + temb + cemb\n",
    "        h = self.activation(h)\n",
    "\n",
    "        h = self.conv2(h)\n",
    "        h = self.activation(h)\n",
    "\n",
    "        return h + self.shortcut(x)\n",
    "\n",
    "class Model(nn.Module):\n",
    "    def __init__(self, num_classes=10, base_channels=256, time_emb_dim=256, n_resblocks=8):\n",
    "        super().__init__()\n",
    "\n",
    "        self.time_emb_dim = time_emb_dim\n",
    "        self.class_emb_dim = time_emb_dim   # for simplicity, use same dim for class\n",
    "        sinu_pos_emb = SinusoidalPosEmb(time_emb_dim)\n",
    "\n",
    "        time_dim = time_emb_dim * 1\n",
    "        self.time_mlp = nn.Sequential(\n",
    "            sinu_pos_emb,\n",
    "            nn.Linear(time_emb_dim, time_dim),\n",
    "            nn.GELU(),\n",
    "            nn.Linear(time_dim, time_dim)\n",
    "        )\n",
    "\n",
    "        self.class_embed = ClassEmbedding(num_classes, self.class_emb_dim)\n",
    "\n",
    "        # self.initial_conv = nn.Conv2d(1, base_channels, kernel_size=3, padding=1)\n",
    "        self.initial_conv = nn.Sequential(\n",
    "            nn.Conv2d(1, base_channels//8, kernel_size=3, padding=1),\n",
    "            nn.SiLU(),\n",
    "            nn.Conv2d(base_channels//8, base_channels//4, kernel_size=3, padding=1),\n",
    "            nn.SiLU(),\n",
    "            nn.Conv2d(base_channels//4, base_channels//2, kernel_size=3, padding=1),\n",
    "            nn.SiLU(),\n",
    "            nn.Conv2d(base_channels//2, base_channels, kernel_size=3, padding=1),\n",
    "        )\n",
    "\n",
    "        # Instead of hardcoding res1/res2/res3, do this:\n",
    "        self.res_blocks = nn.ModuleList([\n",
    "            ResidualBlock(base_channels, base_channels, time_emb_dim, time_emb_dim)\n",
    "            for _ in range(n_resblocks)\n",
    "        ])\n",
    "\n",
    "        # self.final_conv = nn.Conv2d(base_channels, 1, kernel_size=3, padding=1)\n",
    "        self.final_conv = nn.Sequential(\n",
    "            nn.Conv2d(base_channels, base_channels//2, kernel_size=3, padding=1),\n",
    "            nn.SiLU(),\n",
    "            nn.Conv2d(base_channels//2, base_channels//4, kernel_size=3, padding=1),\n",
    "            nn.SiLU(),\n",
    "            nn.Conv2d(base_channels//4, base_channels//8, kernel_size=3, padding=1),\n",
    "            nn.SiLU(),\n",
    "            nn.Conv2d(base_channels//8, 1, kernel_size=3, padding=1),\n",
    "        )\n",
    "\n",
    "        self.activation = nn.SiLU()\n",
    "\n",
    "    def forward(self, x: torch.Tensor, t: torch.Tensor, y: torch.Tensor) -> torch.Tensor:\n",
    "        \"\"\"\n",
    "        Args:\n",
    "            x: the input image, a float tensor of shape (batch_size, in_channels, H, W)\n",
    "            t: the timestep, a long tensor of shape (batch_size,)\n",
    "            y: the class label, a long tensor of shape (batch_size,)\n",
    "        \"\"\"\n",
    "        # 1. Time embedding\n",
    "        t_emb = self.time_mlp(t)       # shape (B, time_emb_dim)\n",
    "\n",
    "        # 2. Class embedding\n",
    "        c_emb = self.class_embed(y)    # shape (B, class_emb_dim)\n",
    "\n",
    "        # 3. Input projection\n",
    "        h = self.initial_conv(x)  # (B, base_channels, 16, 16)\n",
    "\n",
    "        # 4. Residual blocks with embedding injection\n",
    "        for resblk in self.res_blocks:\n",
    "            h = resblk(h, t_emb, c_emb)\n",
    "\n",
    "        # 5. Final projection\n",
    "        h = self.final_conv(h)\n",
    "        return h\n"
   ]
  },
  {
   "cell_type": "code",
   "execution_count": 75,
   "metadata": {},
   "outputs": [
    {
     "name": "stdout",
     "output_type": "stream",
     "text": [
      "Parameters count 33401089\n",
      "Model input shape x=torch.Size([8, 1, 28, 28])\n",
      "Model input shape t=torch.Size([1])\n",
      "Model input shape y=torch.Size([1])\n",
      "Model output shape eps_pred=torch.Size([8, 1, 28, 28])\n",
      "\n",
      "Model summary:\n",
      "Model(\n",
      "  (time_mlp): Sequential(\n",
      "    (0): SinusoidalPosEmb()\n",
      "    (1): Linear(in_features=64, out_features=64, bias=True)\n",
      "    (2): GELU(approximate='none')\n",
      "    (3): Linear(in_features=64, out_features=64, bias=True)\n",
      "  )\n",
      "  (class_embed): ClassEmbedding(\n",
      "    (embed): Embedding(10, 64)\n",
      "  )\n",
      "  (initial_conv): Sequential(\n",
      "    (0): Conv2d(1, 64, kernel_size=(3, 3), stride=(1, 1), padding=(1, 1))\n",
      "    (1): SiLU()\n",
      "    (2): Conv2d(64, 128, kernel_size=(3, 3), stride=(1, 1), padding=(1, 1))\n",
      "    (3): SiLU()\n",
      "    (4): Conv2d(128, 256, kernel_size=(3, 3), stride=(1, 1), padding=(1, 1))\n",
      "    (5): SiLU()\n",
      "    (6): Conv2d(256, 512, kernel_size=(3, 3), stride=(1, 1), padding=(1, 1))\n",
      "  )\n",
      "  (res_blocks): ModuleList(\n",
      "    (0-5): 6 x ResidualBlock(\n",
      "      (conv1): Conv2d(512, 512, kernel_size=(3, 3), stride=(1, 1), padding=(1, 1))\n",
      "      (conv2): Conv2d(512, 512, kernel_size=(3, 3), stride=(1, 1), padding=(1, 1))\n",
      "      (temb_proj): Linear(in_features=64, out_features=512, bias=True)\n",
      "      (cemb_proj): Linear(in_features=64, out_features=512, bias=True)\n",
      "      (activation): SiLU()\n",
      "      (shortcut): Conv2d(512, 512, kernel_size=(1, 1), stride=(1, 1))\n",
      "    )\n",
      "  )\n",
      "  (final_conv): Sequential(\n",
      "    (0): Conv2d(512, 256, kernel_size=(3, 3), stride=(1, 1), padding=(1, 1))\n",
      "    (1): SiLU()\n",
      "    (2): Conv2d(256, 128, kernel_size=(3, 3), stride=(1, 1), padding=(1, 1))\n",
      "    (3): SiLU()\n",
      "    (4): Conv2d(128, 64, kernel_size=(3, 3), stride=(1, 1), padding=(1, 1))\n",
      "    (5): SiLU()\n",
      "    (6): Conv2d(64, 1, kernel_size=(3, 3), stride=(1, 1), padding=(1, 1))\n",
      "  )\n",
      "  (activation): SiLU()\n",
      ")\n"
     ]
    }
   ],
   "source": [
    "def count_parameters(model):\n",
    "    return sum(p.numel() for p in model.parameters() if p.requires_grad)\n",
    "               \n",
    "model_ = Model(base_channels=512, time_emb_dim=64, n_resblocks=6)\n",
    "print(f'Parameters count {count_parameters(model_)}')\n",
    "x = torch.randn(8, 1, 28, 28)\n",
    "t = torch.tensor([0])\n",
    "y = torch.tensor([0])\n",
    "print(f'Model input shape x={x.shape}')\n",
    "print(f'Model input shape t={t.shape}')\n",
    "print(f'Model input shape y={y.shape}')\n",
    "print(f'Model output shape eps_pred={model_(x=torch.randn(8, 1, 28, 28), t=torch.tensor([0]), y=torch.tensor([0])).shape}')\n",
    "\n",
    "print('\\nModel summary:')\n",
    "print(model_)"
   ]
  },
  {
   "cell_type": "markdown",
   "metadata": {
    "id": "MFbqwMZb-9cr"
   },
   "source": [
    "### 1.3 Training Loop\n",
    "\n",
    "First, implement the forward diffusion process and the loss computation.\n",
    "\n",
    "Then, implement the training loop for the diffusion model.\n",
    "\n",
    "Once done, train the model to convergence in order to be able to sample images of digits from the MNIST dataset."
   ]
  },
  {
   "cell_type": "code",
   "execution_count": 60,
   "metadata": {},
   "outputs": [],
   "source": [
    "import numpy as np\n",
    "import torch.nn.functional as F\n",
    "\n",
    "# Define the number of DDPM steps and compute alpha and beta schedules\n",
    "T = 1000  \n",
    "beta_start = 1e-4\n",
    "beta_end   = 2e-2\n",
    "beta_np = np.linspace(beta_start, beta_end, T, dtype=np.float32)\n",
    "\n",
    "beta_torch = torch.tensor(beta_np, device=device)\n",
    "alpha_torch = 1. - beta_torch\n",
    "alpha_bar_torch = torch.cumprod(alpha_torch, dim=0)\n",
    "\n",
    "\n",
    "# def cosine_beta_schedule(timesteps, s=0.008):\n",
    "#     \"\"\"\n",
    "#     Cosine schedule as proposed in \n",
    "#     'Improved Denoising Diffusion Probabilistic Models' (Nichol & Dhariwal, 2021).\n",
    "#     s is a small offset to prevent beta from being too large near t=0.\n",
    "    \n",
    "#     Returns:\n",
    "#       np.array of betas of length `timesteps`.\n",
    "#     \"\"\"\n",
    "#     # The paper defines alpha_bar(t), and beta_t is the discrete difference of alpha_bar.\n",
    "#     steps = timesteps + 1\n",
    "#     x = np.linspace(0, timesteps, steps, dtype=np.float64)\n",
    "\n",
    "#     # define alpha_bar using cosine\n",
    "#     alphas_cumprod = np.cos(\n",
    "#         ((x / timesteps) + s) / (1 + s) * math.pi * 0.5\n",
    "#     ) ** 2\n",
    "#     # normalize so that alpha_bar(0) = 1\n",
    "#     alphas_cumprod = alphas_cumprod / alphas_cumprod[0]\n",
    "\n",
    "#     # now create the betas\n",
    "#     # beta_t = 1 - alpha_bar_t / alpha_bar_{t-1}\n",
    "#     betas = []\n",
    "#     for i in range(timesteps):\n",
    "#         alpha_bar_t   = alphas_cumprod[i+1]\n",
    "#         alpha_bar_t_1 = alphas_cumprod[i]\n",
    "#         beta_t = 1.0 - (alpha_bar_t / alpha_bar_t_1)\n",
    "#         betas.append(beta_t)\n",
    "#     return np.array(betas, dtype=np.float32)\n",
    "\n",
    "\n",
    "# ########################################\n",
    "# # Example usage: Replacing your linear schedule with cosine\n",
    "# ########################################\n",
    "\n",
    "# T = 1000\n",
    "\n",
    "# # get the betas from the cosine scheduler\n",
    "# beta_np = cosine_beta_schedule(T, s=0.008)\n",
    "\n",
    "# # convert them to torch\n",
    "# beta_torch = torch.tensor(beta_np, device=device)   # shape (T,)\n",
    "# alpha_torch = 1. - beta_torch                       # alpha = 1 - beta\n",
    "# alpha_bar_torch = torch.cumprod(alpha_torch, dim=0) # \\prod_{i=1}^t alpha_i\n",
    "\n",
    "# # now alpha_bar_torch[t] is \\bar{alpha}_t, which you can use in diffusion_forward"
   ]
  },
  {
   "cell_type": "code",
   "execution_count": 61,
   "metadata": {
    "id": "Jee7SPp1-9cr"
   },
   "outputs": [],
   "source": [
    "def diffusion_forward(x_0: torch.Tensor, t: torch.Tensor) -> typing.Tuple[torch.Tensor, torch.Tensor]:\n",
    "    \"\"\"\n",
    "    Forward diffusion process, given a clean image x_0 and a timestep t,\n",
    "    returns the noised image and the noise.\n",
    "    \"\"\"\n",
    "    # t is in [0, T-1], so alpha_bar[t] is shape (B,) after indexing\n",
    "    # alpha_bar_t shape: (B,)\n",
    "\n",
    "    # 1. gather alpha_bar[t] into a shape that can be broadcast\n",
    "    #    e.g. (B, 1, 1, 1)\n",
    "    alpha_bar_t = alpha_bar_torch[t].view(-1, 1, 1, 1)\n",
    "\n",
    "    # 2. sample eps ~ N(0, I)\n",
    "    eps = torch.randn_like(x_0)\n",
    "\n",
    "    # 3. compute x_t\n",
    "    x_t = torch.sqrt(alpha_bar_t) * x_0 + torch.sqrt(1.0 - alpha_bar_t) * eps\n",
    "    return x_t, eps\n",
    "\n",
    "def compute_loss(model: nn.Module, x_0: torch.Tensor, y: torch.Tensor) -> torch.Tensor:\n",
    "    \"\"\"\n",
    "    Compute the diffusion loss that supervises the denoiser `model`.\n",
    "\n",
    "    Args:\n",
    "        model: the noise prediction model\n",
    "        x_0: the clean image, a float tensor of shape (batch_size, in_channels, H, W)\n",
    "        y: the class label, a long tensor of shape (batch_size,)\n",
    "    \"\"\"\n",
    "    B = x_0.shape[0]\n",
    "    t = torch.randint(0, T, (B,), device=x_0.device)  # shape (B,)\n",
    "\n",
    "    # forward diffusion\n",
    "    x_t, eps = diffusion_forward(x_0, t)\n",
    "\n",
    "    # model predicts noise\n",
    "    eps_pred = model(x_t, t, y)\n",
    "\n",
    "    loss = F.mse_loss(eps_pred, eps, reduction='sum')\n",
    "    return loss\n",
    "\n",
    "def train_diffusion(\n",
    "    model,\n",
    "    trainloader,\n",
    "    valloader,\n",
    "    num_epochs=15,\n",
    "    save_path_best=\"./checkpoints_diffusion/best_model.pt\",\n",
    "    save_path_latest=\"./checkpoints_diffusion/latest_model.pt\"\n",
    "):\n",
    "    \"\"\"\n",
    "    Training loop for the diffusion model with:\n",
    "      - train/val loss\n",
    "      - checkpointing best model based on loss\n",
    "      - highlights best val-epoch on the final plot\n",
    "    \"\"\"\n",
    "    optimizer = torch.optim.Adam(model.parameters(), lr=1e-4)\n",
    "\n",
    "    train_losses = []\n",
    "    val_losses = []\n",
    "    best_loss = float(\"inf\")\n",
    "    best_epoch = None\n",
    "\n",
    "    for epoch in range(num_epochs):\n",
    "        model.train()\n",
    "        total_train_loss = 0.0\n",
    "        total_train_samples = 0\n",
    "\n",
    "        progress_bar = tqdm(trainloader, desc=f'Epoch {epoch+1}/{num_epochs}')\n",
    "        for batch in progress_bar:\n",
    "            x_0 = batch[0].to(device)  # in [-1,1]\n",
    "            y   = batch[1].to(device)\n",
    "\n",
    "            loss = compute_loss(model, x_0, y)\n",
    "            bs   = x_0.shape[0]\n",
    "\n",
    "            optimizer.zero_grad()\n",
    "            loss.backward()\n",
    "            optimizer.step()\n",
    "\n",
    "            total_train_loss += loss.item()\n",
    "            total_train_samples += bs\n",
    "\n",
    "            # Show loss per sample in progress bar\n",
    "            progress_bar.set_postfix({\"loss\": f\"{loss.item() / bs:.4f}\"})\n",
    "\n",
    "        # Average train loss for the epoch\n",
    "        avg_train_loss = total_train_loss / total_train_samples\n",
    "        train_losses.append(avg_train_loss)\n",
    "\n",
    "        # Validation\n",
    "        avg_val_loss = validate_diffusion(model, valloader)\n",
    "        val_losses.append(avg_val_loss)\n",
    "\n",
    "        # Checkpointing: always save \"latest\"\n",
    "        torch.save(model.state_dict(), save_path_latest)\n",
    "\n",
    "        # Check if this is the best val loss so far\n",
    "        if avg_val_loss < best_loss:\n",
    "            best_loss = avg_val_loss\n",
    "            best_epoch = epoch + 1\n",
    "            torch.save(model.state_dict(), save_path_best)\n",
    "\n",
    "    # ---- Plot train vs val loss with markers ----\n",
    "    epochs_list = range(1, num_epochs + 1)\n",
    "\n",
    "    plt.figure(figsize=(8,5))\n",
    "    plt.plot(epochs_list, train_losses, label='Train Loss', marker='o')\n",
    "    plt.plot(epochs_list, val_losses, label='Val Loss', marker='s')\n",
    "\n",
    "    # If we have a best_epoch, draw a dashed vertical line in red\n",
    "    if best_epoch is not None:\n",
    "        plt.axvline(x=best_epoch, color='red', linestyle='--', label='Best Val Epoch')\n",
    "\n",
    "    plt.xlabel('Epoch')\n",
    "    plt.ylabel('Loss')\n",
    "    plt.title('Diffusion Training vs. Validation Loss')\n",
    "    plt.grid(True)\n",
    "    plt.legend()\n",
    "    plt.show()\n",
    "\n",
    "def validate_diffusion(model, valloader):\n",
    "    \"\"\"\n",
    "    Computes the average validation loss over the val set.\n",
    "    \"\"\"\n",
    "    model.eval()\n",
    "    total_loss = 0.0\n",
    "    total_samples = 0\n",
    "\n",
    "    with torch.no_grad():\n",
    "        for batch in valloader:\n",
    "            x_0 = batch[0].to(device)  # (B, 1, 16, 16)\n",
    "            y = batch[1].to(device)    # (B,)\n",
    "            loss = compute_loss(model, x_0, y)\n",
    "            total_loss += loss.item()\n",
    "            total_samples += x_0.shape[0]\n",
    "\n",
    "    avg_loss = total_loss / total_samples\n",
    "    return avg_loss"
   ]
  },
  {
   "cell_type": "code",
   "execution_count": 77,
   "metadata": {},
   "outputs": [
    {
     "name": "stdout",
     "output_type": "stream",
     "text": [
      "Parameters count 33401089\n"
     ]
    },
    {
     "data": {
      "application/vnd.jupyter.widget-view+json": {
       "model_id": "8b4a5fa7faba434388157d36431a006f",
       "version_major": 2,
       "version_minor": 0
      },
      "text/plain": [
       "Epoch 1/30:   0%|          | 0/469 [00:00<?, ?it/s]"
      ]
     },
     "metadata": {},
     "output_type": "display_data"
    },
    {
     "data": {
      "application/vnd.jupyter.widget-view+json": {
       "model_id": "63a0be9287c3415aad312239e7f3b62a",
       "version_major": 2,
       "version_minor": 0
      },
      "text/plain": [
       "Epoch 2/30:   0%|          | 0/469 [00:00<?, ?it/s]"
      ]
     },
     "metadata": {},
     "output_type": "display_data"
    },
    {
     "data": {
      "application/vnd.jupyter.widget-view+json": {
       "model_id": "e080053ab64b4d6fbecc991dd288e25a",
       "version_major": 2,
       "version_minor": 0
      },
      "text/plain": [
       "Epoch 3/30:   0%|          | 0/469 [00:00<?, ?it/s]"
      ]
     },
     "metadata": {},
     "output_type": "display_data"
    },
    {
     "data": {
      "application/vnd.jupyter.widget-view+json": {
       "model_id": "0515e3556cf34b4790c60453b256fca8",
       "version_major": 2,
       "version_minor": 0
      },
      "text/plain": [
       "Epoch 4/30:   0%|          | 0/469 [00:00<?, ?it/s]"
      ]
     },
     "metadata": {},
     "output_type": "display_data"
    },
    {
     "data": {
      "application/vnd.jupyter.widget-view+json": {
       "model_id": "9517c06cca8c4ea4a606ad15655a6bad",
       "version_major": 2,
       "version_minor": 0
      },
      "text/plain": [
       "Epoch 5/30:   0%|          | 0/469 [00:00<?, ?it/s]"
      ]
     },
     "metadata": {},
     "output_type": "display_data"
    },
    {
     "data": {
      "application/vnd.jupyter.widget-view+json": {
       "model_id": "1a0a31b0dda640a79e789cd759a62a01",
       "version_major": 2,
       "version_minor": 0
      },
      "text/plain": [
       "Epoch 6/30:   0%|          | 0/469 [00:00<?, ?it/s]"
      ]
     },
     "metadata": {},
     "output_type": "display_data"
    },
    {
     "data": {
      "application/vnd.jupyter.widget-view+json": {
       "model_id": "85edfdbeffa4460bb7897a30c8377f19",
       "version_major": 2,
       "version_minor": 0
      },
      "text/plain": [
       "Epoch 7/30:   0%|          | 0/469 [00:00<?, ?it/s]"
      ]
     },
     "metadata": {},
     "output_type": "display_data"
    },
    {
     "data": {
      "application/vnd.jupyter.widget-view+json": {
       "model_id": "5c86d8b94f624799a05ee259a76bf7bf",
       "version_major": 2,
       "version_minor": 0
      },
      "text/plain": [
       "Epoch 8/30:   0%|          | 0/469 [00:00<?, ?it/s]"
      ]
     },
     "metadata": {},
     "output_type": "display_data"
    },
    {
     "data": {
      "application/vnd.jupyter.widget-view+json": {
       "model_id": "87b9ff2ff2d1467d85f29133c5d301d5",
       "version_major": 2,
       "version_minor": 0
      },
      "text/plain": [
       "Epoch 9/30:   0%|          | 0/469 [00:00<?, ?it/s]"
      ]
     },
     "metadata": {},
     "output_type": "display_data"
    },
    {
     "data": {
      "application/vnd.jupyter.widget-view+json": {
       "model_id": "4061cf2bfd3349d49b15fe7bca25ba87",
       "version_major": 2,
       "version_minor": 0
      },
      "text/plain": [
       "Epoch 10/30:   0%|          | 0/469 [00:00<?, ?it/s]"
      ]
     },
     "metadata": {},
     "output_type": "display_data"
    },
    {
     "data": {
      "application/vnd.jupyter.widget-view+json": {
       "model_id": "2b0811e6a8de465bb845e78cdcd8c89d",
       "version_major": 2,
       "version_minor": 0
      },
      "text/plain": [
       "Epoch 11/30:   0%|          | 0/469 [00:00<?, ?it/s]"
      ]
     },
     "metadata": {},
     "output_type": "display_data"
    },
    {
     "data": {
      "application/vnd.jupyter.widget-view+json": {
       "model_id": "1867a127c70c4efdbcead6b639063a47",
       "version_major": 2,
       "version_minor": 0
      },
      "text/plain": [
       "Epoch 12/30:   0%|          | 0/469 [00:00<?, ?it/s]"
      ]
     },
     "metadata": {},
     "output_type": "display_data"
    },
    {
     "data": {
      "application/vnd.jupyter.widget-view+json": {
       "model_id": "c7132fb09f964445be36ce1b3d1d4c5f",
       "version_major": 2,
       "version_minor": 0
      },
      "text/plain": [
       "Epoch 13/30:   0%|          | 0/469 [00:00<?, ?it/s]"
      ]
     },
     "metadata": {},
     "output_type": "display_data"
    },
    {
     "data": {
      "application/vnd.jupyter.widget-view+json": {
       "model_id": "a896dfd0399c49d09d6e850f0f48a920",
       "version_major": 2,
       "version_minor": 0
      },
      "text/plain": [
       "Epoch 14/30:   0%|          | 0/469 [00:00<?, ?it/s]"
      ]
     },
     "metadata": {},
     "output_type": "display_data"
    },
    {
     "data": {
      "application/vnd.jupyter.widget-view+json": {
       "model_id": "831f545af80d46d3af74a0c81bc3df2d",
       "version_major": 2,
       "version_minor": 0
      },
      "text/plain": [
       "Epoch 15/30:   0%|          | 0/469 [00:00<?, ?it/s]"
      ]
     },
     "metadata": {},
     "output_type": "display_data"
    },
    {
     "data": {
      "application/vnd.jupyter.widget-view+json": {
       "model_id": "efa8fafd7f92417dbb338757be71b010",
       "version_major": 2,
       "version_minor": 0
      },
      "text/plain": [
       "Epoch 16/30:   0%|          | 0/469 [00:00<?, ?it/s]"
      ]
     },
     "metadata": {},
     "output_type": "display_data"
    },
    {
     "data": {
      "application/vnd.jupyter.widget-view+json": {
       "model_id": "8b193102ede84a5a8b2f96589df738e6",
       "version_major": 2,
       "version_minor": 0
      },
      "text/plain": [
       "Epoch 17/30:   0%|          | 0/469 [00:00<?, ?it/s]"
      ]
     },
     "metadata": {},
     "output_type": "display_data"
    },
    {
     "data": {
      "application/vnd.jupyter.widget-view+json": {
       "model_id": "71bcf8a919e947f4a9b2830263f4fdf2",
       "version_major": 2,
       "version_minor": 0
      },
      "text/plain": [
       "Epoch 18/30:   0%|          | 0/469 [00:00<?, ?it/s]"
      ]
     },
     "metadata": {},
     "output_type": "display_data"
    },
    {
     "data": {
      "application/vnd.jupyter.widget-view+json": {
       "model_id": "ff47ac1ae6dc4aa4980bc5b6ed918c2b",
       "version_major": 2,
       "version_minor": 0
      },
      "text/plain": [
       "Epoch 19/30:   0%|          | 0/469 [00:00<?, ?it/s]"
      ]
     },
     "metadata": {},
     "output_type": "display_data"
    },
    {
     "data": {
      "application/vnd.jupyter.widget-view+json": {
       "model_id": "730ec5a2ca3d454db861fab21cd7f753",
       "version_major": 2,
       "version_minor": 0
      },
      "text/plain": [
       "Epoch 20/30:   0%|          | 0/469 [00:00<?, ?it/s]"
      ]
     },
     "metadata": {},
     "output_type": "display_data"
    },
    {
     "data": {
      "application/vnd.jupyter.widget-view+json": {
       "model_id": "15f123c3f48d4df683eee720a2a7b260",
       "version_major": 2,
       "version_minor": 0
      },
      "text/plain": [
       "Epoch 21/30:   0%|          | 0/469 [00:00<?, ?it/s]"
      ]
     },
     "metadata": {},
     "output_type": "display_data"
    },
    {
     "data": {
      "application/vnd.jupyter.widget-view+json": {
       "model_id": "2f1dd97afd9c43adbaad7572de6e2764",
       "version_major": 2,
       "version_minor": 0
      },
      "text/plain": [
       "Epoch 22/30:   0%|          | 0/469 [00:00<?, ?it/s]"
      ]
     },
     "metadata": {},
     "output_type": "display_data"
    },
    {
     "data": {
      "application/vnd.jupyter.widget-view+json": {
       "model_id": "9c92d2a8e37149c6a80afc84f68ea27c",
       "version_major": 2,
       "version_minor": 0
      },
      "text/plain": [
       "Epoch 23/30:   0%|          | 0/469 [00:00<?, ?it/s]"
      ]
     },
     "metadata": {},
     "output_type": "display_data"
    },
    {
     "data": {
      "application/vnd.jupyter.widget-view+json": {
       "model_id": "f2b2112ea16c49c0b5e6b2dcab9dc964",
       "version_major": 2,
       "version_minor": 0
      },
      "text/plain": [
       "Epoch 24/30:   0%|          | 0/469 [00:00<?, ?it/s]"
      ]
     },
     "metadata": {},
     "output_type": "display_data"
    },
    {
     "data": {
      "application/vnd.jupyter.widget-view+json": {
       "model_id": "1ab03c307fa34f8a93cbc57e9be4c95b",
       "version_major": 2,
       "version_minor": 0
      },
      "text/plain": [
       "Epoch 25/30:   0%|          | 0/469 [00:00<?, ?it/s]"
      ]
     },
     "metadata": {},
     "output_type": "display_data"
    },
    {
     "data": {
      "application/vnd.jupyter.widget-view+json": {
       "model_id": "2c04361b35c444449968fd77624eaecd",
       "version_major": 2,
       "version_minor": 0
      },
      "text/plain": [
       "Epoch 26/30:   0%|          | 0/469 [00:00<?, ?it/s]"
      ]
     },
     "metadata": {},
     "output_type": "display_data"
    },
    {
     "data": {
      "application/vnd.jupyter.widget-view+json": {
       "model_id": "b995d2c4c7404f458b5894a4f6831029",
       "version_major": 2,
       "version_minor": 0
      },
      "text/plain": [
       "Epoch 27/30:   0%|          | 0/469 [00:00<?, ?it/s]"
      ]
     },
     "metadata": {},
     "output_type": "display_data"
    },
    {
     "data": {
      "application/vnd.jupyter.widget-view+json": {
       "model_id": "c466e7a34d15492484e38a1cadd5b8de",
       "version_major": 2,
       "version_minor": 0
      },
      "text/plain": [
       "Epoch 28/30:   0%|          | 0/469 [00:00<?, ?it/s]"
      ]
     },
     "metadata": {},
     "output_type": "display_data"
    },
    {
     "data": {
      "application/vnd.jupyter.widget-view+json": {
       "model_id": "d7daa297de0a4d30b729dec2956a3936",
       "version_major": 2,
       "version_minor": 0
      },
      "text/plain": [
       "Epoch 29/30:   0%|          | 0/469 [00:00<?, ?it/s]"
      ]
     },
     "metadata": {},
     "output_type": "display_data"
    },
    {
     "data": {
      "application/vnd.jupyter.widget-view+json": {
       "model_id": "5d32d85ac5014eceb2f5290701657931",
       "version_major": 2,
       "version_minor": 0
      },
      "text/plain": [
       "Epoch 30/30:   0%|          | 0/469 [00:00<?, ?it/s]"
      ]
     },
     "metadata": {},
     "output_type": "display_data"
    },
    {
     "data": {
      "image/png": "[encoded data removed]",
      "text/plain": [
       "<Figure size 800x500 with 1 Axes>"
      ]
     },
     "metadata": {},
     "output_type": "display_data"
    },
    {
     "name": "stdout",
     "output_type": "stream",
     "text": [
      "Training completed.\n",
      "Best model loaded successfully.\n"
     ]
    }
   ],
   "source": [
    "# Instantiate the model train\n",
    "model = Model(base_channels=512, time_emb_dim=64, n_resblocks=6).to(device)\n",
    "print(f'Parameters count {count_parameters(model)}')\n",
    "# train_diffusion(model, trainloader, valloader, num_epochs=30)\n",
    "# print(\"Training completed.\")\n",
    "\n",
    "# Load best state_dict\n",
    "model.load_state_dict(torch.load(\"./checkpoints_diffusion/best_model.pt\"))\n",
    "print(\"Best model loaded successfully.\")\n"
   ]
  },
  {
   "cell_type": "code",
   "execution_count": 78,
   "metadata": {},
   "outputs": [
    {
     "name": "stdout",
     "output_type": "stream",
     "text": [
      "torch.Size([128, 1, 16, 16])\n",
      "torch.Size([128, 1, 16, 16])\n"
     ]
    },
    {
     "data": {
      "image/png": "[encoded data removed]",
      "text/plain": [
       "<Figure size 1200x400 with 3 Axes>"
      ]
     },
     "metadata": {},
     "output_type": "display_data"
    }
   ],
   "source": [
    "#  Check again that the data transformation is correct. \n",
    "for batch in trainloader:\n",
    "    x_0 = batch[0].to(device)  # shape (1, 1, 16, 16)\n",
    "    t = np.random.randint(0, T//20, size=(1,), dtype=np.int64)\n",
    "    x_t, eps = diffusion_forward(x_0, t)\n",
    "    print(x_t.shape)\n",
    "    print(eps.shape)\n",
    "\n",
    "    fig, axes = plt.subplots(nrows=1, ncols=3, figsize=(12, 4))\n",
    "\n",
    "    # Display the first image on the left subplot\n",
    "    axes[0].imshow(x_0[0,0].to('cpu'), cmap='gray')\n",
    "    axes[0].axis('off')  # Hide axes\n",
    "    axes[0].set_title(\"Original image\")\n",
    "\n",
    "    # Display the second image on the right subplot\n",
    "    axes[1].imshow(x_t[0,0].to('cpu'), cmap='gray')\n",
    "    axes[1].axis('off')  # Hide axes\n",
    "    axes[1].set_title(f'Noisy image with Timestep {t}')\n",
    "\n",
    "     # Display the noise\n",
    "    axes[2].imshow(eps[0,0].to('cpu'), cmap='gray')\n",
    "    axes[2].axis('off')  # Hide axes\n",
    "    axes[2].set_title(f'Noise')\n",
    "    break\n"
   ]
  },
  {
   "cell_type": "markdown",
   "metadata": {
    "id": "TnaYDv44-9cr"
   },
   "source": [
    "### 1.4: Visualizing the diffusion samples\n",
    "\n",
    "Given the pretrained model, sample several images of digits. Visualize 4 samples for each digit class in the MNIST (i.e. classes 0-to-9, inclusive), and show the result in a 10x4 grid of images."
   ]
  },
  {
   "cell_type": "code",
   "execution_count": 80,
   "metadata": {
    "id": "AB7zpC0b-9cr"
   },
   "outputs": [
    {
     "data": {
      "image/png": "[encoded data removed]",
      "text/plain": [
       "<Figure size 1000x300 with 10 Axes>"
      ]
     },
     "metadata": {},
     "output_type": "display_data"
    }
   ],
   "source": [
    "@torch.no_grad()\n",
    "def sample_from_model(model: nn.Module, num_samples: int, digit_class: int):\n",
    "    \"\"\"\n",
    "    Draw samples from the model for a given digit_class.\n",
    "    We'll do the naive T-step reverse diffusion:\n",
    "      x_T ~ N(0,I) -> x_{T-1} -> ... -> x_0\n",
    "    \"\"\"\n",
    "    model.eval()\n",
    "    x = torch.randn(num_samples, 1, H, W, device=device)  # x_T\n",
    "    t_array = torch.arange(T-1, -1, -1, device=device)    # from T-1 down to 0\n",
    "    y = torch.full((num_samples,), digit_class, device=device, dtype=torch.long)\n",
    "\n",
    "    for i in range(T):\n",
    "        t_cur = t_array[i]\n",
    "        eps_pred = model(x, t_cur.repeat(num_samples), y)  # predicted noise\n",
    "\n",
    "        alpha_t      = alpha_torch[t_cur]      # scalar\n",
    "        alpha_bar_t  = alpha_bar_torch[t_cur]  # scalar\n",
    "        beta_t       = beta_torch[t_cur]       # scalar\n",
    "\n",
    "        alpha_t_     = alpha_t.view(-1,1,1,1)\n",
    "        alpha_bar_t_ = alpha_bar_t.view(-1,1,1,1)\n",
    "\n",
    "        # formula x_{t-1} = 1/sqrt(alpha_t)*(x_t - (1-alpha_t)/sqrt(1-alpha_bar_t)*eps_pred) + sqrt(beta_t)*z\n",
    "        if t_cur > 0:\n",
    "            z = torch.randn_like(x)\n",
    "        else:\n",
    "            z = 0.0\n",
    "\n",
    "        eps = 1e-8\n",
    "        x = (1.0 / torch.sqrt(alpha_t_ + eps)) * (\n",
    "            x - ((1.0 - alpha_t_) / torch.sqrt(1.0 - alpha_bar_t_ + eps)) * eps_pred\n",
    "            ) + torch.sqrt(beta_t + eps).view(-1,1,1,1) * z\n",
    "\n",
    "    return x\n",
    "\n",
    "plt.figure(figsize=(10, 3))\n",
    "for digit_class in range(NUM_CLASSES):\n",
    "    samples = sample_from_model(model, digit_class=digit_class, num_samples=4)\n",
    "    samples = samples.detach().cpu() * 0.5 + 0.5\n",
    "    samples_im = torch.cat([s[0] for s in samples], dim=0)\n",
    "    subplot = plt.subplot(1, 10, digit_class + 1)\n",
    "    subplot.imshow(samples_im, cmap='gray')\n",
    "    subplot.axis('off')\n",
    "    subplot.set_title(f'Digit {digit_class}')\n",
    "plt.show()"
   ]
  },
  {
   "cell_type": "markdown",
   "metadata": {
    "id": "rVJCc1hT-9cr"
   },
   "source": [
    "## Part 2: Implementing Inpainting with Diffusion\n",
    "\n",
    "Now that we have a trained diffusion model, let's implement inpainting using the model.\n",
    "More specifically, given an image of a digit, we first mask a part of it. We then ask you to leverage the MNIST-trained diffusion model to inpaint the missing part so that the resulting image still looks like an image of the corresponding digit (the digit class is known as well).\n",
    "\n",
    "You can select a method of your choice as long as you utilize the diffusion model you just trained."
   ]
  },
  {
   "cell_type": "code",
   "execution_count": null,
   "metadata": {
    "id": "_F31rRmg-9cr"
   },
   "outputs": [
    {
     "data": {
      "image/png": "[encoded data removed]",
      "text/plain": [
       "<Figure size 600x300 with 4 Axes>"
      ]
     },
     "metadata": {},
     "output_type": "display_data"
    }
   ],
   "source": [
    "def create_mask(image_size, box_size, position):\n",
    "    \"\"\"Create a binary mask for inpainting\"\"\"\n",
    "    mask = torch.zeros((1, 1, image_size, image_size))\n",
    "    x, y = position\n",
    "    mask[:, :, y:y+box_size, x:x+box_size] = 1\n",
    "    return mask\n",
    "\n",
    "def inpaint_with_diffusion_model(\n",
    "    model: nn.Module,\n",
    "    image_masked: torch.Tensor,\n",
    "    mask: torch.Tensor,\n",
    "    digit_class: int,\n",
    ") -> torch.Tensor:\n",
    "    \"\"\"\n",
    "    Implement inpainting using the diffusion model\n",
    "\n",
    "    Args:\n",
    "        model: the diffusion model\n",
    "        image_masked: the image to inpaint\n",
    "        mask: binary mask where 1s are the masked region, and 0s are the known region\n",
    "        digit_class: the digit class of the image\n",
    "    \"\"\"\n",
    "\n",
    "    # 1) Make sure we have a batch dimension and channel dimension\n",
    "    if image_masked.dim() == 2:\n",
    "        # shape (H, W) => (1, 1, H, W)\n",
    "        image_masked = image_masked.unsqueeze(0).unsqueeze(0)\n",
    "        mask = mask.unsqueeze(0).unsqueeze(0)\n",
    "    elif image_masked.dim() == 3:\n",
    "        # shape (1, H, W) => (1, 1, H, W)\n",
    "        image_masked = image_masked.unsqueeze(1)\n",
    "        mask = mask.unsqueeze(1)\n",
    "\n",
    "    image_masked = image_masked.to(device)\n",
    "    mask = mask.to(device)               # shape (1,1,H,W)\n",
    "    model.eval()\n",
    "\n",
    "    # 2) Start from random noise for the entire image\n",
    "    #    We’ll overwrite the known region each step anyway\n",
    "    x = torch.randn_like(image_masked)   # shape (1,1,H,W)\n",
    "\n",
    "    # 3) Reverse diffusion steps: T-1 ... 0\n",
    "    for i in reversed(range(T)):\n",
    "        t_cur = torch.tensor([i], device=device, dtype=torch.long)\n",
    "        y     = torch.tensor([digit_class], device=device, dtype=torch.long)\n",
    "\n",
    "        # a) predict noise with the model\n",
    "        eps_pred = model(x, t_cur, y)   # shape (1,1,H,W)\n",
    "\n",
    "        # b) retrieve alphas and betas for time i\n",
    "        alpha_t     = alpha_torch[i]           # scalar\n",
    "        alpha_bar_t = alpha_bar_torch[i]       # scalar\n",
    "        beta_t      = beta_torch[i]            # scalar\n",
    "\n",
    "        # c) sample noise for this step (except at t=0)\n",
    "        if i > 0:\n",
    "            z = torch.randn_like(x)\n",
    "        else:\n",
    "            z = 0.\n",
    "\n",
    "        # d) compute x_{t-1} using the DDPM posterior mean + variance\n",
    "        #    x_{t-1} = 1/sqrt(alpha_t)*(x_t - (1-alpha_t)/sqrt(1 - alpha_bar_t)*eps_pred) + sqrt(beta_t)*z\n",
    "        # (add a small eps in sqrt() if needed to avoid nan)\n",
    "        x_1 = (1.0 / torch.sqrt(alpha_t + 1e-8)) * (\n",
    "                x - ( (1.0 - alpha_t) / torch.sqrt(1.0 - alpha_bar_t + 1e-8) ) * eps_pred\n",
    "              ) + torch.sqrt(beta_t + 1e-8) * z\n",
    "\n",
    "        # e) \"inpaint\" by restoring the known region from image_masked\n",
    "        #    mask=1 means \"to inpaint\", so we keep x_1's new values there\n",
    "        #    mask=0 means \"known region\", so we copy from the original image\n",
    "        x = x_1 * mask + image_masked * (1 - mask)\n",
    "\n",
    "    # at the end, x is shape (1,1,H,W)\n",
    "    return x.squeeze(0)  # shape (1,H,W)\n",
    "\n",
    "# take a random image from the validation set\n",
    "image, label = valset[124]\n",
    "\n",
    "# create a square mask\n",
    "mask = create_mask(image.shape[1], 10, (5, 5))\n",
    "\n",
    "# mask the image\n",
    "image_masked = image * (1 - mask) + mask * (-1)\n",
    "\n",
    "# inpaint the image\n",
    "image_inpainted = inpaint_with_diffusion_model(\n",
    "    model,\n",
    "    image_masked,\n",
    "    mask,\n",
    "    label,\n",
    ")\n",
    "\n",
    "# show the known inputs and the inpainted image\n",
    "plt.figure(figsize=(6, 3))\n",
    "\n",
    "plt.subplot(2, 2, 1)\n",
    "plt.title(\"Original Image\")\n",
    "orig = image.detach().cpu()  # shape (1,16,16)\n",
    "orig = orig[0].clip(-1,1)*0.5+0.5  # => [0,1]\n",
    "plt.imshow(orig, cmap='gray')\n",
    "\n",
    "plt.subplot(2, 2, 2)\n",
    "plt.title(\"Mask\")\n",
    "m = mask.detach().cpu()[0,0]\n",
    "plt.imshow(m, cmap='gray')\n",
    "\n",
    "plt.subplot(2, 2, 3)\n",
    "plt.title(\"Masked Image\")\n",
    "masked_for_vis = image_masked.detach().cpu()[0,0].clip(-1,1)*0.5 + 0.5\n",
    "plt.imshow(masked_for_vis, cmap='gray')\n",
    "\n",
    "plt.subplot(2, 2, 4)\n",
    "plt.title(\"Inpainted Image\")\n",
    "img = image_inpainted.detach()[0].cpu().clip(-1, 1) * 0.5 + 0.5\n",
    "plt.imshow(img, cmap='gray')\n",
    "plt.show()"
   ]
  },
  {
   "cell_type": "markdown",
   "metadata": {
    "id": "VQheNZP_-9cr"
   },
   "source": [
    "# Part 3: Inpainting with SDS\n",
    "\n",
    "The final task is the same as previous one. However, here we ask you to inpaint the image using a specific method: Score Distillation Sampling (SDS), as described in the DreamFusion paper available on arXiv: https://arxiv.org/abs/2209.14988\n",
    "\n",
    "More specifically, we want to optimize a 2D image using SDS so that:\n",
    "  - It's known (unmasked) part matches the given ground-truth image\n",
    "  - It's unknown part gets feasibly inpainted so that the final image depicts the prescribed digit\n",
    "\n",
    "IMPORTANT NOTE: Do NOT optimize a Neural Radiance Field (NeRF) as described in the original DreamFusion paper, but rather a sigle 2D image represented as a `H x W` tensor. The task is to use the SDS method to implement the optimization loop, not to reproduce the DreamFusion paper in its entirety."
   ]
  },
  {
   "cell_type": "code",
   "execution_count": 117,
   "metadata": {
    "id": "7CxGSBed-9cr"
   },
   "outputs": [
    {
     "name": "stdout",
     "output_type": "stream",
     "text": [
      "Step 1/1000, Loss: 57.225257873535156\n",
      "Step 101/1000, Loss: 3.0174245834350586\n",
      "Step 201/1000, Loss: 0.010596291162073612\n",
      "Step 301/1000, Loss: 0.0009145097574219108\n",
      "Step 401/1000, Loss: 0.0033134205732494593\n",
      "Step 501/1000, Loss: 0.06674454361200333\n",
      "Step 601/1000, Loss: 0.02145366184413433\n",
      "Step 701/1000, Loss: 0.09977973252534866\n",
      "Step 801/1000, Loss: 0.14818796515464783\n",
      "Step 901/1000, Loss: 0.0005894026253372431\n"
     ]
    },
    {
     "data": {
      "image/png": "[encoded data removed]",
      "text/plain": [
       "<Figure size 600x300 with 4 Axes>"
      ]
     },
     "metadata": {},
     "output_type": "display_data"
    }
   ],
   "source": [
    "def sds_loss(\n",
    "    model: nn.Module,\n",
    "    opt_image: torch.Tensor,\n",
    "    gt_image: torch.Tensor,\n",
    "    mask: torch.Tensor,\n",
    "    digit_class: int,\n",
    "    num_optimization_steps: int = 1000,\n",
    "):\n",
    "\n",
    "    # A) Known region constraint:\n",
    "    #    We strongly penalize deviation from ground truth in the unmasked region.\n",
    "    #    mask=1 => region to inpaint, so we skip that. (1-mask)= known region.\n",
    "    lambda_known = 100.0  # a weight to ensure known region is strongly preserved\n",
    "    known_loss = ((opt_image - gt_image) * (1 - mask)).pow(2).mean()\n",
    "\n",
    "    # B) Diffusion prior constraint (SDS):\n",
    "    #    1) Pick a random timestep t\n",
    "    #    2) Forward diffuse opt_image -> x_t\n",
    "    #    3) Model predicts noise\n",
    "    #    4) MSE in noise space => L_prior\n",
    "    #    5) We do backprop w.r.t. opt_image\n",
    "    B = opt_image.shape[0]  # typically 1\n",
    "    t = torch.randint(0, T, (B,), device=opt_image.device)  # random step\n",
    "\n",
    "    # forward diffuse\n",
    "    x_t, eps = diffusion_forward(opt_image, t)  # same as your earlier function\n",
    "    eps_pred = model(x_t, t, torch.tensor([digit_class], device=x_t.device))\n",
    "\n",
    "    # The 'score distillation' trick is basically the MSE in noise space:\n",
    "    # L_prior = E[ (eps_pred - eps)^2 ]\n",
    "    # By taking gradient wrt opt_image, we nudge 'opt_image' to produce smaller MSE in noise space.\n",
    "    prior_loss = F.mse_loss(eps_pred, eps)\n",
    "\n",
    "    # Combine them\n",
    "    # Weighted sum so we preserve known region while also shaping the masked region\n",
    "    loss = lambda_known * known_loss + prior_loss\n",
    "    return loss\n",
    "\n",
    "def inpaint_with_sds(\n",
    "    model: nn.Module,\n",
    "    opt_image: torch.Tensor,\n",
    "    gt_image: torch.Tensor,\n",
    "    mask: torch.Tensor,\n",
    "    digit_class: int,\n",
    "    num_optimization_steps: int = 1000,\n",
    "):\n",
    "    # Reverse diffusion process with classifier-free guidance\n",
    "    opt_image = torch.zeros_like(image_masked, device=device)\n",
    "    gt_image = gt_image.to(device)\n",
    "    mask = mask.to(device)\n",
    "    opt_image.requires_grad = True\n",
    "    optimizer = torch.optim.Adam([opt_image], lr=1e-2)\n",
    "    for step in range(num_optimization_steps):\n",
    "        optimizer.zero_grad()\n",
    "        loss = sds_loss(model, opt_image, gt_image, mask, digit_class)\n",
    "        if step % 100 == 0:\n",
    "            print(f\"Step {step+1}/{num_optimization_steps}, Loss: {loss.item()}\")\n",
    "        loss.backward()\n",
    "        optimizer.step()\n",
    "    return opt_image\n",
    "\n",
    "optimized_image = inpaint_with_sds(model, image_masked, image, mask, label)\n",
    "\n",
    "# show the known inputs and the inpainted image\n",
    "plt.figure(figsize=(6, 3))\n",
    "\n",
    "plt.subplot(2, 2, 1)\n",
    "plt.title(\"Original Image\")\n",
    "orig = image.detach().cpu()  # shape (1,16,16)\n",
    "orig = orig[0].clip(-1,1)*0.5+0.5  # => [0,1]\n",
    "plt.imshow(orig, cmap='gray')\n",
    "\n",
    "plt.subplot(2, 2, 2)\n",
    "plt.title(\"Mask\")\n",
    "m = mask.detach().cpu()[0,0]\n",
    "plt.imshow(m, cmap='gray')\n",
    "\n",
    "plt.subplot(2, 2, 3)\n",
    "plt.title(\"Masked Image\")\n",
    "masked_for_vis = image_masked.detach().cpu()[0,0].clip(-1,1)*0.5 + 0.5\n",
    "plt.imshow(masked_for_vis, cmap='gray')\n",
    "\n",
    "plt.subplot(2, 2, 4)\n",
    "plt.title(\"Inpainted Image\")\n",
    "img = optimized_image.detach().cpu()[0, 0].clip(-1, 1) * 0.5 + 0.5\n",
    "plt.imshow(img, cmap='gray')\n",
    "plt.show()"
   ]
  },
  {
   "cell_type": "markdown",
   "metadata": {},
   "source": [
    "## Summary Report\n",
    "\n",
    "### 1. Part 1: Simple Diffusion Model\n",
    "- **Implementation**  \n",
    "  I created a noise-prediction model using a series of **ResNet-style residual blocks** and **time/class embeddings** specifically for MNIST digits, exploring both **linear** and **cosine** \\(\\beta\\)-schedules. Part of the implementation was inspired by the official DDPM repository ([lucidrains/denoising-diffusion-pytorch](https://github.com/lucidrains/denoising-diffusion-pytorch/blob/main/denoising_diffusion_pytorch/denoising_diffusion_pytorch.py)). Additionally, I used **data visualization** as a best practice to verify our input data—both before and after adding noise—and to quickly catch any potential problems during preprocessing.\n",
    "\n",
    "- **Forward Diffusion**  \n",
    "  I used the standard closed-form noising equation, \n",
    "  $$\n",
    "  x_t = \\sqrt{\\bar{\\alpha}_t}\\,x_0 + \\sqrt{1 - \\bar{\\alpha}_t}\\,\\epsilon.\n",
    "  $$\n",
    "- **Reverse (Denoising) Process**  \n",
    "  The model predicts noise \\(\\epsilon\\). I trained it with an MSE loss between the predicted noise and the true noise.  \n",
    "- **Training & Validation**  \n",
    "  - I discovered that training for roughly 30 epochs on MNIST helped the model produce recognizable conditional generations.  \n",
    "  - I tracked validation loss for best-model checkpointing, although FID would have been ideal. MNIST’s single-channel format and small size complicate standard Inception-based FID scoring.  \n",
    "  - Our initial attempt at a cosine schedule did not yield improved results with limited debugging time. Given more time, I would investigate this further.  \n",
    "- **Outcome**  \n",
    "  With sufficient epochs, the model produced recognizable MNIST digits under class conditioning.\n",
    "\n",
    "### 2. Part 2: Inpainting with Diffusion\n",
    "- **Goal**  \n",
    "  Given a partially masked MNIST digit, fill in the missing region so it still resembles the original digit.  \n",
    "- **Method: “Mask + Replace”**  \n",
    "  In the reverse diffusion steps, I only update the masked region and restore the known region to its original pixel values after each step. This ensures the unmasked pixels remain unchanged.  \n",
    "- **Notes**  \n",
    "  - This approach was straightforward and required minimal debugging.  \n",
    "  - Because the masked region is re-noised at each step but the unmasked region remains fixed, the final reconstruction aligns with the original digit in the unmasked area.\n",
    "\n",
    "### 3. Part 3: Inpainting with SDS (Score Distillation Sampling)\n",
    "- **Idea**  \n",
    "  Instead of using direct reverse diffusion, I treat the masked image as a learnable parameter and optimize it directly via gradient-based updates.  \n",
    "- **Implementation**  \n",
    "  1. **Score Distillation Loss**: I combine:\n",
    "     - A *known-region penalty* (`lambda_known` \\(\\times\\) MSE of unmasked pixels vs. the ground truth).  \n",
    "     - A *diffusion prior loss*, which is an MSE in noise space at a randomly sampled diffusion step \\(t\\).  \n",
    "  2. **Optimization**: \n",
    "     - Each iteration, I noised the current image to \\(x_t\\), had the model predict \\(\\epsilon\\), and took an MSE with the true noise. \n",
    "     - I backpropagated w.r.t. the masked image itself.  \n",
    "     - Varying `lambda_known` (e.g., 10, 50, 100) controls how strictly I preserve the unmasked pixels versus allowing more freedom in the masked region. \n",
    "   \n",
    "- **Note**  \n",
    "  I found that **in the SDS inpainting** step, I had to set `lambda_known` to a relatively **large value** (around **100**) in order to strongly preserve the known (unmasked) region. Smaller values (like 10 or 20) allowed the diffusion prior to alter the originally unmasked pixels more than desired, while large values effectively locked the unmasked region and still let the model plausibly fill in the masked area. I believe this parts needs a more careful implementation and a deeper understanding from my side. Given more time I would consider going in the implementation of the original paper to better grasp it. \n",
    "\n"
   ]
  },
  {
   "cell_type": "markdown",
   "metadata": {},
   "source": []
  }
 ],
 "metadata": {
  "colab": {
   "provenance": []
  },
  "kernelspec": {
   "display_name": "spAItial",
   "language": "python",
   "name": "python3"
  },
  "language_info": {
   "codemirror_mode": {
    "name": "ipython",
    "version": 3
   },
   "file_extension": ".py",
   "mimetype": "text/x-python",
   "name": "python",
   "nbconvert_exporter": "python",
   "pygments_lexer": "ipython3",
   "version": "3.9.21"
  }
 },
 "nbformat": 4,
 "nbformat_minor": 0
}
