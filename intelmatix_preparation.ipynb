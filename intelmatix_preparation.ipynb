{
 "cells": [
  {
   "cell_type": "markdown",
   "id": "7b4879fe",
   "metadata": {},
   "source": [
    "# Let's prepare for the conding interview with Intelmatix\n"
   ]
  },
  {
   "cell_type": "code",
   "execution_count": 7,
   "id": "7744c2e0",
   "metadata": {},
   "outputs": [],
   "source": [
    "import os\n",
    "import torch\n",
    "from tqdm import tqdm \n",
    "import sklearn as sk\n",
    "import pandas as pd\n"
   ]
  },
  {
   "cell_type": "markdown",
   "id": "2eee9f3c",
   "metadata": {},
   "source": [
    "# Creating, Saving and Reading data"
   ]
  },
  {
   "cell_type": "code",
   "execution_count": null,
   "id": "81342a09",
   "metadata": {},
   "outputs": [
    {
     "name": "stdout",
     "output_type": "stream",
     "text": [
      "0    10\n",
      "1    20\n",
      "2    30\n",
      "3    40\n",
      "Name: age, dtype: int64\n"
     ]
    }
   ],
   "source": [
    "# Creating a Series from a list\n",
    "s = pd.Series([10, 20, 30, 40], name=\"age\")\n",
    "print(s)"
   ]
  },
  {
   "cell_type": "code",
   "execution_count": 42,
   "id": "309b573d",
   "metadata": {},
   "outputs": [
    {
     "name": "stdout",
     "output_type": "stream",
     "text": [
      "      name  age     city  salary\n",
      "0    Alice   25       NY   70000\n",
      "1      Bob   30       LA   80000\n",
      "2  Charlie   35  Chicago   90000\n",
      "3    David   40  Houston  100000\n",
      "4    Lukas   45  Houston  122222\n"
     ]
    }
   ],
   "source": [
    "# Creating a DataFrame from a dictionary\n",
    "data = {\n",
    "    \"name\": [\"Alice\", \"Bob\", \"Charlie\", \"David\", \"Lukas\"],\n",
    "    \"age\": [25, 30, 35, 40, 45],\n",
    "    \"city\": [\"NY\", \"LA\", \"Chicago\", \"Houston\", \"Houston\"],\n",
    "    \"salary\": [70000, 80000, 90000, 100000, 122222]\n",
    "}\n",
    "\n",
    "df = pd.DataFrame(data)\n",
    "print(df)"
   ]
  },
  {
   "cell_type": "code",
   "execution_count": 11,
   "id": "de4153b6",
   "metadata": {},
   "outputs": [
    {
     "name": "stdout",
     "output_type": "stream",
     "text": [
      "      name  age     city\n",
      "0    Alice   25       NY\n",
      "1      Bob   30       LA\n",
      "2  Charlie   35  Chicago\n",
      "3    David   40  Houston\n"
     ]
    }
   ],
   "source": [
    "# Writing to a CSV file\n",
    "df.to_csv(\"./example.csv\", index=False)\n",
    "\n",
    "# Reading a CSV file\n",
    "df = pd.read_csv(\"./example.csv\")\n",
    "print(df.head())"
   ]
  },
  {
   "cell_type": "markdown",
   "id": "ed6925f6",
   "metadata": {},
   "source": [
    "# Indexing"
   ]
  },
  {
   "cell_type": "code",
   "execution_count": 17,
   "id": "3762d175",
   "metadata": {},
   "outputs": [
    {
     "name": "stdout",
     "output_type": "stream",
     "text": [
      "25\n",
      "25\n",
      "      name  age     city\n",
      "2  Charlie   35  Chicago\n",
      "3    David   40  Houston\n",
      "  name  age city\n",
      "1  Bob   30   LA\n"
     ]
    }
   ],
   "source": [
    "# df.loc[label]: label-based indexing.\n",
    "# df.iloc[pos]: integer-position-based indexing.\n",
    "\n",
    "# label-based\n",
    "print(df.loc[0, \"age\"])  # row label 0, column \"age\"\n",
    "\n",
    "# integer-position-based\n",
    "print(df.iloc[0, 1])     # row 0, column 1\n",
    "\n",
    "\n",
    "# BOOLEAN MASKING: All rows where age > 30\n",
    "print(df[df[\"age\"] > 30])\n",
    "\n",
    "# CONDITIONAL FILTERING: All rows where age > 30\n",
    "print(df[(df[\"age\"] >= 30) & (df[\"city\"] == \"LA\")])"
   ]
  },
  {
   "cell_type": "markdown",
   "id": "c0fe36c6",
   "metadata": {},
   "source": [
    "# Data cleaning and transformation"
   ]
  },
  {
   "cell_type": "markdown",
   "id": "96955fd6",
   "metadata": {},
   "source": [
    "df[\"age\"].fillna(df[\"age\"].mean(), inplace=True)"
   ]
  },
  {
   "cell_type": "code",
   "execution_count": 23,
   "id": "902a537e",
   "metadata": {},
   "outputs": [
    {
     "name": "stdout",
     "output_type": "stream",
     "text": [
      "      name   age     city\n",
      "0    Alice   NaN       NY\n",
      "1      Bob  30.0       LA\n",
      "2  Charlie  35.0  Chicago\n",
      "3    David  40.0  Houston\n",
      "\n",
      "    name    age   city\n",
      "0  False   True  False\n",
      "1  False  False  False\n",
      "2  False  False  False\n",
      "3  False  False  False\n",
      "\n",
      "name    0\n",
      "age     1\n",
      "city    0\n",
      "dtype: int64\n",
      "\n",
      "35.0\n",
      "      name   age     city\n",
      "0    Alice  35.0       NY\n",
      "1      Bob  30.0       LA\n",
      "2  Charlie  35.0  Chicago\n",
      "3    David  40.0  Houston\n"
     ]
    }
   ],
   "source": [
    "# Handling Missing Values\n",
    "\n",
    "# df.isnull(): checks for NaN/Nulls.\n",
    "# df.dropna(): drops rows (or columns) with NaN values.\n",
    "# df.fillna(value): fills NaN with a value or a strategy.\n",
    "\n",
    "df.iloc[0, 1] = None\n",
    "print(df)\n",
    "print()\n",
    "print(df.isnull()) # Check for NaN values\n",
    "print()\n",
    "print(df.isnull().sum())  # Count of NaN values in each column\n",
    "print()\n",
    "# print(df.dropna())  # Drop rows with NaN values\n",
    "# print()\n",
    "\n",
    "print(df[\"age\"].mean())\n",
    "df[\"age\"].fillna(df[\"age\"].mean(), inplace=True)\n",
    "print(df)"
   ]
  },
  {
   "cell_type": "code",
   "execution_count": 30,
   "id": "54526db1",
   "metadata": {},
   "outputs": [
    {
     "name": "stdout",
     "output_type": "stream",
     "text": [
      "      name  age     city\n",
      "0    Alice   25       NY\n",
      "1      Bob   30       LA\n",
      "2  Charlie   35  Chicago\n",
      "3    David   40  Houston\n",
      "\n",
      "      name  age     city\n",
      "0    Alice   25       ny\n",
      "1      Bob   30       la\n",
      "2  Charlie   35  chicago\n",
      "3    David   40  houston\n"
     ]
    }
   ],
   "source": [
    "# Changing Data Types\n",
    "df[\"age\"] = df[\"age\"].astype(int)     # Convert to integer\n",
    "print(df)\n",
    "print()\n",
    "\n",
    "# String Operations\n",
    "df[\"city\"] = df[\"city\"].str.lower()                # Lowercase all city strings\n",
    "df[\"name\"] = df[\"name\"].str.replace(\" \", \"_\")      # Replace spaces with underscores\n",
    "print(df)\n"
   ]
  },
  {
   "cell_type": "code",
   "execution_count": null,
   "id": "8a47ef99",
   "metadata": {},
   "outputs": [
    {
     "name": "stdout",
     "output_type": "stream",
     "text": [
      "      name  age     city  age_plus_ten\n",
      "0    Alice   25       ny            35\n",
      "1      Bob   30       la            40\n",
      "2  Charlie   35  chicago            45\n",
      "3    David   40  houston            50\n",
      "\n",
      "      name  age     city  age_plus_ten             info\n",
      "0    Alice   25       ny            35         Alice_ny\n",
      "1      Bob   30       la            40           Bob_la\n",
      "2  Charlie   35  chicago            45  Charlie_chicago\n",
      "3    David   40  houston            50    David_houston\n",
      "\n"
     ]
    }
   ],
   "source": [
    "# .apply() to a Series\n",
    "df[\"age_plus_ten\"] = df[\"age\"].apply(lambda x: x + 10)\n",
    "print(df)\n",
    "print()\n",
    "\n",
    "# .apply() to a DataFrame row-wise\n",
    "df[\"info\"] = df.apply(lambda row: f\"{row['name']}_{row['city']}\", axis=1)\n",
    "print(df)\n",
    "print()\n"
   ]
  },
  {
   "cell_type": "code",
   "execution_count": 34,
   "id": "d972fe51",
   "metadata": {},
   "outputs": [
    {
     "name": "stdout",
     "output_type": "stream",
     "text": [
      "      name  age location  age_plus_ten             info\n",
      "0    Alice   25       ny            35         Alice_ny\n",
      "1      Bob   30       la            40           Bob_la\n",
      "2  Charlie   35  chicago            45  Charlie_chicago\n",
      "3    David   40  houston            50    David_houston\n"
     ]
    }
   ],
   "source": [
    "# Renaming Columns\n",
    "df.rename(columns={\"city\": \"location\"}, inplace=True)\n",
    "print(df)"
   ]
  },
  {
   "cell_type": "code",
   "execution_count": 35,
   "id": "43c69fef",
   "metadata": {},
   "outputs": [
    {
     "name": "stdout",
     "output_type": "stream",
     "text": [
      "      name  age location  age_plus_ten             info\n",
      "3    David   40  houston            50    David_houston\n",
      "2  Charlie   35  chicago            45  Charlie_chicago\n",
      "1      Bob   30       la            40           Bob_la\n",
      "0    Alice   25       ny            35         Alice_ny\n"
     ]
    }
   ],
   "source": [
    "df.sort_values(by=\"age\", ascending=False, inplace=True)\n",
    "print(df)"
   ]
  },
  {
   "cell_type": "markdown",
   "id": "3b550177",
   "metadata": {},
   "source": [
    "# Aggregation and grouping"
   ]
  },
  {
   "cell_type": "code",
   "execution_count": 43,
   "id": "2ffa73d2",
   "metadata": {},
   "outputs": [
    {
     "name": "stdout",
     "output_type": "stream",
     "text": [
      "      name  age     city  salary\n",
      "0    Alice   25       NY   70000\n",
      "1      Bob   30       LA   80000\n",
      "2  Charlie   35  Chicago   90000\n",
      "3    David   40  Houston  100000\n",
      "4    Lukas   45  Houston  122222\n",
      "\n",
      "city\n",
      "Chicago    35.0\n",
      "Houston    42.5\n",
      "LA         30.0\n",
      "NY         25.0\n",
      "Name: age, dtype: float64\n",
      "\n",
      "          age      salary\n",
      "         mean max     sum\n",
      "city                     \n",
      "Chicago  35.0  35   90000\n",
      "Houston  42.5  45  222222\n",
      "LA       30.0  30   80000\n",
      "NY       25.0  25   70000\n",
      "\n"
     ]
    }
   ],
   "source": [
    "print(df)\n",
    "print()\n",
    "# Basic aggregation\n",
    "grouped = df.groupby(\"city\")[\"age\"].mean()\n",
    "print(grouped)\n",
    "print()\n",
    "\n",
    "# Multiple aggregations on multiple columns\n",
    "grouped2 = df.groupby(\"city\").agg({\n",
    "    \"age\": [\"mean\", \"max\"],\n",
    "    \"salary\": \"sum\"\n",
    "})\n",
    "\n",
    "print(grouped2)\n",
    "print()"
   ]
  },
  {
   "cell_type": "code",
   "execution_count": 55,
   "id": "5f4f7617",
   "metadata": {},
   "outputs": [
    {
     "name": "stdout",
     "output_type": "stream",
     "text": [
      "      name  age     city  salary\n",
      "0    Alice   25       NY   70000\n",
      "1      Bob   30       LA   80000\n",
      "2  Charlie   35  Chicago   90000\n",
      "3    David   40  Houston  100000\n",
      "4    Lukas   45  Houston  122222\n",
      "0    Alice   25       NY   70000\n",
      "1      Bob   30       LA   80000\n",
      "2  Charlie   35  Chicago   90000\n",
      "3    David   40  Houston  100000\n",
      "\n",
      "      name  age     city  salary     name   age     city    salary\n",
      "0    Alice   25       NY   70000    Alice  25.0       NY   70000.0\n",
      "1      Bob   30       LA   80000      Bob  30.0       LA   80000.0\n",
      "2  Charlie   35  Chicago   90000  Charlie  35.0  Chicago   90000.0\n",
      "3    David   40  Houston  100000    David  40.0  Houston  100000.0\n",
      "4    Lukas   45  Houston  122222      NaN   NaN      NaN       NaN\n",
      "\n",
      "      name  age_x   city_x  salary_x  age_y   city_y  salary_y\n",
      "0    Alice     25       NY     70000     25       NY     70000\n",
      "1      Bob     30       LA     80000     30       LA     80000\n",
      "2  Charlie     35  Chicago     90000     35  Chicago     90000\n",
      "3    David     40  Houston    100000     40  Houston    100000\n",
      "\n"
     ]
    }
   ],
   "source": [
    "# Creating a DataFrame from a dictionary\n",
    "data = {\n",
    "    \"name\": [\"Alice\", \"Bob\", \"Charlie\", \"David\", \"Lukas\"],\n",
    "    \"age\": [25, 30, 35, 40, 45],\n",
    "    \"city\": [\"NY\", \"LA\", \"Chicago\", \"Houston\", \"Houston\"],\n",
    "    \"salary\": [70000, 80000, 90000, 100000, 122222]\n",
    "}\n",
    "\n",
    "df1 = pd.DataFrame(data)\n",
    "\n",
    "# Creating a DataFrame from a dictionary\n",
    "data = {\n",
    "    \"name\": [\"Alice\", \"Bob\", \"Charlie\", \"David\"],\n",
    "    \"age\": [25, 30, 35, 40],\n",
    "    \"city\": [\"NY\", \"LA\", \"Chicago\", \"Houston\"],\n",
    "    \"salary\": [70000, 80000, 90000, 100000]\n",
    "}\n",
    "\n",
    "df2 = pd.DataFrame(data)\n",
    "\n",
    "df_combined = pd.concat([df1, df2], axis=0)  # stack rows\n",
    "print(df_combined)\n",
    "print()\n",
    "df_side_by_side = pd.concat([df1, df2], axis=1)  # side-by-side\n",
    "print(df_side_by_side)\n",
    "print()\n",
    "\n",
    "merged_df = pd.merge(df1, df2, on=\"name\", how=\"inner\")\n",
    "print(merged_df)\n",
    "print()"
   ]
  },
  {
   "cell_type": "code",
   "execution_count": 61,
   "id": "999b654b",
   "metadata": {},
   "outputs": [
    {
     "name": "stdout",
     "output_type": "stream",
     "text": [
      "                 age\n",
      "city    salary      \n",
      "Chicago 90000   35.0\n",
      "Houston 100000  40.0\n",
      "        122222  45.0\n",
      "LA      80000   30.0\n",
      "NY      70000   25.0\n"
     ]
    }
   ],
   "source": [
    "grouped = df.groupby([\"city\", \"salary\"]).mean(numeric_only=True)\n",
    "\n",
    "print(grouped)\n"
   ]
  },
  {
   "cell_type": "code",
   "execution_count": 65,
   "id": "1d12f52c",
   "metadata": {},
   "outputs": [
    {
     "name": "stdout",
     "output_type": "stream",
     "text": [
      "      name  age     city  salary\n",
      "0    Alice   25       NY   70000\n",
      "1      Bob   30       LA   80000\n",
      "2  Charlie   35  Chicago   90000\n",
      "3    David   40  Houston  100000\n",
      "4    Lukas   45  Houston  122222\n"
     ]
    }
   ],
   "source": [
    "df[\"city\"] = df[\"city\"].astype(\"category\")\n",
    "print(df)"
   ]
  },
  {
   "cell_type": "markdown",
   "id": "3fbc8e0c",
   "metadata": {},
   "source": [
    "# SKLEARN"
   ]
  },
  {
   "cell_type": "code",
   "execution_count": 1,
   "id": "f79acbf2",
   "metadata": {},
   "outputs": [],
   "source": [
    "import pandas as pd\n",
    "import numpy as np\n",
    "from sklearn.model_selection import train_test_split\n",
    "from sklearn.pipeline import Pipeline\n",
    "from sklearn.compose import ColumnTransformer\n",
    "from sklearn.impute import SimpleImputer\n",
    "from sklearn.preprocessing import OneHotEncoder, StandardScaler\n",
    "from sklearn.ensemble import RandomForestClassifier\n",
    "from sklearn.metrics import classification_report, accuracy_score\n"
   ]
  },
  {
   "cell_type": "code",
   "execution_count": 5,
   "id": "59c84cc9",
   "metadata": {},
   "outputs": [
    {
     "name": "stdout",
     "output_type": "stream",
     "text": [
      "    age        income           city  gender education_level  purchased\n",
      "0  58.0  47334.018181        Chicago    Male     High School          1\n",
      "1  48.0  43844.250370            NaN   Other         Masters          0\n",
      "2  34.0  67695.745171        Houston    Male       Bachelors          0\n",
      "3  27.0  36526.880908        Houston   Other             PhD          1\n",
      "4  40.0  62521.931288  San Francisco  Female       Bachelors          0\n"
     ]
    }
   ],
   "source": [
    "# Generate a Dataset\n",
    "np.random.seed(42)\n",
    "\n",
    "n_samples = 100\n",
    "\n",
    "data = {\n",
    "    \"age\": np.random.randint(20, 60, size=n_samples),\n",
    "    \"income\": np.random.normal(50000, 15000, size=n_samples),\n",
    "    \"city\": np.random.choice([\"New York\", \"San Francisco\", \"Chicago\", \"Houston\"], size=n_samples),\n",
    "    \"gender\": np.random.choice([\"Male\", \"Female\", \"Other\"], size=n_samples),\n",
    "    \"education_level\": np.random.choice([\"High School\", \"Bachelors\", \"Masters\", \"PhD\"], size=n_samples),\n",
    "    \"purchased\": np.random.choice([0, 1], size=n_samples)\n",
    "}\n",
    "\n",
    "df = pd.DataFrame(data)\n",
    "\n",
    "# Introduce missing values randomly\n",
    "for col in [\"age\", \"income\", \"city\"]:\n",
    "    df.loc[df.sample(frac=0.1).index, col] = np.nan\n",
    "\n",
    "print(df.head())\n"
   ]
  },
  {
   "cell_type": "code",
   "execution_count": 7,
   "id": "181a131c",
   "metadata": {},
   "outputs": [],
   "source": [
    "# Define Features and Target\n",
    "\n",
    "X = df.drop(\"purchased\", axis=1)\n",
    "y = df[\"purchased\"]\n",
    "\n",
    "X_train, X_test, y_train, y_test = train_test_split(\n",
    "    X, y, test_size=0.2, random_state=42\n",
    ")"
   ]
  },
  {
   "cell_type": "code",
   "execution_count": 13,
   "id": "f6ac2ff7",
   "metadata": {},
   "outputs": [
    {
     "name": "stderr",
     "output_type": "stream",
     "text": [
      "/home/soldanm/anaconda3/envs/sm/lib/python3.8/site-packages/sklearn/preprocessing/_encoders.py:975: FutureWarning: `sparse` was renamed to `sparse_output` in version 1.2 and will be removed in 1.4. `sparse_output` is ignored unless you leave `sparse` to its default value.\n",
      "  warnings.warn(\n"
     ]
    }
   ],
   "source": [
    "# numeric_features = [\"age\", \"income\"]\n",
    "# categorical_features = [\"city\", \"gender\", \"education_level\"]\n",
    "\n",
    "# numeric_transformer = Pipeline([\n",
    "#     (\"imputer\", SimpleImputer(strategy=\"mean\")),\n",
    "#     (\"scaler\", StandardScaler())\n",
    "# ])\n",
    "\n",
    "# categorical_transformer = Pipeline([\n",
    "#     (\"imputer\", SimpleImputer(strategy=\"most_frequent\")),\n",
    "#     (\"onehot\", OneHotEncoder(handle_unknown=\"ignore\"))\n",
    "# ])\n",
    "\n",
    "# preprocessor = ColumnTransformer([\n",
    "#     (\"num\", numeric_transformer, numeric_features),\n",
    "#     (\"cat\", categorical_transformer, categorical_features)\n",
    "# ])\n",
    "\n",
    "# pipeline = Pipeline([\n",
    "#     (\"preprocessor\", preprocessor),\n",
    "#     (\"classifier\", RandomForestClassifier(n_estimators=100, random_state=42))\n",
    "# ])\n",
    "\n",
    "\n",
    "#  Alternatively: \n",
    "#  Handle numerical features: \n",
    "\n",
    "numeric_features = [\"age\", \"income\"]\n",
    "\n",
    "# Impute missing values\n",
    "num_imputer = SimpleImputer(strategy=\"mean\")\n",
    "X_train_num = num_imputer.fit_transform(X_train[numeric_features])\n",
    "X_test_num = num_imputer.transform(X_test[numeric_features])\n",
    "\n",
    "# Scale\n",
    "scaler = StandardScaler()\n",
    "X_train_num = scaler.fit_transform(X_train_num)\n",
    "X_test_num = scaler.transform(X_test_num)\n",
    "\n",
    "\n",
    "# Handle categorical features:\n",
    "categorical_features = [\"city\", \"gender\", \"education_level\"]\n",
    "\n",
    "# Impute missing values\n",
    "cat_imputer = SimpleImputer(strategy=\"most_frequent\")\n",
    "X_train_cat = cat_imputer.fit_transform(X_train[categorical_features])\n",
    "X_test_cat = cat_imputer.transform(X_test[categorical_features])\n",
    "\n",
    "# One-hot encode\n",
    "encoder = OneHotEncoder(handle_unknown=\"ignore\", sparse=False)\n",
    "X_train_cat = encoder.fit_transform(X_train_cat)\n",
    "X_test_cat = encoder.transform(X_test_cat)\n",
    "\n",
    "\n",
    "X_train_final = np.hstack([X_train_num, X_train_cat])\n",
    "X_test_final = np.hstack([X_test_num, X_test_cat])\n"
   ]
  },
  {
   "cell_type": "code",
   "execution_count": 14,
   "id": "b5782e7b",
   "metadata": {},
   "outputs": [
    {
     "name": "stdout",
     "output_type": "stream",
     "text": [
      "Accuracy: 0.45\n",
      "              precision    recall  f1-score   support\n",
      "\n",
      "           0       0.75      0.40      0.52        15\n",
      "           1       0.25      0.60      0.35         5\n",
      "\n",
      "    accuracy                           0.45        20\n",
      "   macro avg       0.50      0.50      0.44        20\n",
      "weighted avg       0.62      0.45      0.48        20\n",
      "\n"
     ]
    }
   ],
   "source": [
    "# Train and Evaluate Model\n",
    "model = RandomForestClassifier(n_estimators=100, random_state=42)\n",
    "model.fit(X_train_final, y_train)\n",
    "\n",
    "y_pred = model.predict(X_test_final)\n",
    "\n",
    "print(\"Accuracy:\", accuracy_score(y_test, y_pred))\n",
    "print(classification_report(y_test, y_pred))"
   ]
  }
 ],
 "metadata": {
  "kernelspec": {
   "display_name": "sm",
   "language": "python",
   "name": "python3"
  },
  "language_info": {
   "codemirror_mode": {
    "name": "ipython",
    "version": 3
   },
   "file_extension": ".py",
   "mimetype": "text/x-python",
   "name": "python",
   "nbconvert_exporter": "python",
   "pygments_lexer": "ipython3",
   "version": "3.8.18"
  }
 },
 "nbformat": 4,
 "nbformat_minor": 5
}
